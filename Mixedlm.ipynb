{
 "cells": [
  {
   "cell_type": "code",
   "execution_count": 1,
   "metadata": {},
   "outputs": [
    {
     "name": "stderr",
     "output_type": "stream",
     "text": [
      "C:\\Users\\Devashish\\Anaconda3_1\\lib\\site-packages\\statsmodels\\tools\\_testing.py:19: FutureWarning: pandas.util.testing is deprecated. Use the functions in the public API at pandas.testing instead.\n",
      "  import pandas.util.testing as tm\n"
     ]
    }
   ],
   "source": [
    "# Import packages\n",
    "import numpy as np\n",
    "import pandas as pd\n",
    "import statsmodels.api as sm\n",
    "import statsmodels.formula.api as smf"
   ]
  },
  {
   "cell_type": "code",
   "execution_count": null,
   "metadata": {},
   "outputs": [],
   "source": [
    "# Import the DEA data and export dataset with non-zero/non-blank observations\n",
    "df1 = pd.read_excel('Compustat DEA.xlsx')"
   ]
  },
  {
   "cell_type": "code",
   "execution_count": null,
   "metadata": {},
   "outputs": [],
   "source": [
    "df1.columns"
   ]
  },
  {
   "cell_type": "code",
   "execution_count": null,
   "metadata": {},
   "outputs": [],
   "source": [
    "# Just the important columns\n",
    "df1 = df1[['Global Company Key','Data Year - Fiscal','Assets - Total','Employees','Revenue - Total','Standard Industry Classification Code','Research and Development Expense']]"
   ]
  },
  {
   "cell_type": "code",
   "execution_count": null,
   "metadata": {},
   "outputs": [],
   "source": [
    "# Created lagged R&D expense\n",
    "df1['lagged_rnd'] = df1.sort_values(by=['Global Company Key','Data Year - Fiscal']).groupby(['Global Company Key'])['Research and Development Expense'].shift(1)"
   ]
  },
  {
   "cell_type": "code",
   "execution_count": null,
   "metadata": {},
   "outputs": [],
   "source": [
    "# Filter the dataframe for only the columns with non negative values\n",
    "df1 = df1[(df1['Assets - Total']>0) & (df1['Employees']>0) & (df1['Revenue - Total']>0) & (df1['lagged_rnd']>0)]"
   ]
  },
  {
   "cell_type": "code",
   "execution_count": null,
   "metadata": {},
   "outputs": [],
   "source": [
    "df1.to_excel('Compustat_DEA_v3.xlsx')"
   ]
  },
  {
   "cell_type": "code",
   "execution_count": 2,
   "metadata": {},
   "outputs": [],
   "source": [
    "# Import the data\n",
    "df = pd.read_excel('Compustat_DEA_v3.xlsx')"
   ]
  },
  {
   "cell_type": "code",
   "execution_count": 3,
   "metadata": {},
   "outputs": [],
   "source": [
    "# List of years\n",
    "year = [1996, 1997, 1998, 1999, 2000, 2001,2002, 2003, 2004, 2005, 2006, 2007, 2008, 2009, 2010, 2011, 2012, 2013, 2014, 2015, 2016, 2017, 2018, 2019]"
   ]
  },
  {
   "cell_type": "code",
   "execution_count": 40,
   "metadata": {},
   "outputs": [
    {
     "name": "stderr",
     "output_type": "stream",
     "text": [
      "C:\\Users\\Devashish\\Anaconda3_1\\lib\\site-packages\\statsmodels\\base\\model.py:512: ConvergenceWarning: Maximum Likelihood optimization failed to converge. Check mle_retvals\n",
      "  \"Check mle_retvals\", ConvergenceWarning)\n",
      "C:\\Users\\Devashish\\Anaconda3_1\\lib\\site-packages\\statsmodels\\regression\\mixed_linear_model.py:2059: ConvergenceWarning: Retrying MixedLM optimization with lbfgs\n",
      "  ConvergenceWarning)\n",
      "C:\\Users\\Devashish\\Anaconda3_1\\lib\\site-packages\\statsmodels\\regression\\mixed_linear_model.py:2094: ConvergenceWarning: The MLE may be on the boundary of the parameter space.\n",
      "  warnings.warn(msg, ConvergenceWarning)\n"
     ]
    }
   ],
   "source": [
    "df_year = df[df['Year']==2017]\n",
    "md = smf.mixedlm(\"ln_revenue ~ ln_assets + ln_comp + ln_patent + ln_emp\", df_year, groups=df_year[\"GVKEY\"], re_formula = \"ln_assets + ln_comp + ln_patent + ln_emp\")\n",
    "mdf = md.fit()"
   ]
  },
  {
   "cell_type": "code",
   "execution_count": 41,
   "metadata": {
    "scrolled": false
   },
   "outputs": [
    {
     "name": "stdout",
     "output_type": "stream",
     "text": [
      "                Mixed Linear Model Regression Results\n",
      "=====================================================================\n",
      "Model:                 MixedLM     Dependent Variable:     ln_revenue\n",
      "No. Observations:      969         Method:                 REML      \n",
      "No. Groups:            969         Scale:                  0.0169    \n",
      "Min. group size:       1           Likelihood:             -949.7555 \n",
      "Max. group size:       1           Converged:              Yes       \n",
      "Mean group size:       1.0                                           \n",
      "---------------------------------------------------------------------\n",
      "                          Coef.  Std.Err.    z    P>|z| [0.025 0.975]\n",
      "---------------------------------------------------------------------\n",
      "Intercept                  0.488    0.084   5.786 0.000  0.322  0.653\n",
      "ln_assets                  0.865    0.019  45.577 0.000  0.828  0.903\n",
      "ln_comp                   -0.093    0.008 -11.751 0.000 -0.108 -0.077\n",
      "ln_patent                  0.012    0.018   0.655 0.512 -0.024  0.048\n",
      "ln_emp                     0.333    0.032  10.421 0.000  0.270  0.396\n",
      "Group Var                  0.164    0.952                            \n",
      "Group x ln_assets Cov     -0.001    0.195                            \n",
      "ln_assets Var              0.004    0.010                            \n",
      "Group x ln_comp Cov        0.021                                     \n",
      "ln_assets x ln_comp Cov   -0.000    0.028                            \n",
      "ln_comp Var                0.014                                     \n",
      "Group x ln_patent Cov      0.006                                     \n",
      "ln_assets x ln_patent Cov -0.001                                     \n",
      "ln_comp x ln_patent Cov   -0.001                                     \n",
      "ln_patent Var              0.007                                     \n",
      "Group x ln_emp Cov        -0.085    0.078                            \n",
      "ln_assets x ln_emp Cov    -0.006                                     \n",
      "ln_comp x ln_emp Cov      -0.038    0.046                            \n",
      "ln_patent x ln_emp Cov    -0.002                                     \n",
      "ln_emp Var                 0.134                                     \n",
      "=====================================================================\n",
      "\n"
     ]
    },
    {
     "name": "stderr",
     "output_type": "stream",
     "text": [
      "C:\\Users\\Devashish\\Anaconda3_1\\lib\\site-packages\\statsmodels\\base\\model.py:1286: RuntimeWarning: invalid value encountered in sqrt\n",
      "  bse_ = np.sqrt(np.diag(self.cov_params()))\n"
     ]
    }
   ],
   "source": [
    "print(mdf.summary())"
   ]
  },
  {
   "cell_type": "code",
   "execution_count": 4,
   "metadata": {},
   "outputs": [
    {
     "data": {
      "text/plain": [
       "(97744, 17)"
      ]
     },
     "execution_count": 4,
     "metadata": {},
     "output_type": "execute_result"
    }
   ],
   "source": [
    "df.shape"
   ]
  },
  {
   "cell_type": "code",
   "execution_count": 5,
   "metadata": {},
   "outputs": [],
   "source": [
    "df = df[df['ln_patent'].notna()]"
   ]
  },
  {
   "cell_type": "code",
   "execution_count": 6,
   "metadata": {},
   "outputs": [
    {
     "data": {
      "text/plain": [
       "(37772, 17)"
      ]
     },
     "execution_count": 6,
     "metadata": {},
     "output_type": "execute_result"
    }
   ],
   "source": [
    "df.shape"
   ]
  },
  {
   "cell_type": "code",
   "execution_count": 104,
   "metadata": {},
   "outputs": [],
   "source": [
    "year1 = [2017]"
   ]
  },
  {
   "cell_type": "code",
   "execution_count": 105,
   "metadata": {},
   "outputs": [
    {
     "name": "stderr",
     "output_type": "stream",
     "text": [
      "C:\\Users\\Devashish\\Anaconda3_1\\lib\\site-packages\\statsmodels\\base\\model.py:512: ConvergenceWarning: Maximum Likelihood optimization failed to converge. Check mle_retvals\n",
      "  \"Check mle_retvals\", ConvergenceWarning)\n",
      "C:\\Users\\Devashish\\Anaconda3_1\\lib\\site-packages\\statsmodels\\regression\\mixed_linear_model.py:2059: ConvergenceWarning: Retrying MixedLM optimization with lbfgs\n",
      "  ConvergenceWarning)\n",
      "C:\\Users\\Devashish\\Anaconda3_1\\lib\\site-packages\\statsmodels\\regression\\mixed_linear_model.py:2094: ConvergenceWarning: The MLE may be on the boundary of the parameter space.\n",
      "  warnings.warn(msg, ConvergenceWarning)\n"
     ]
    }
   ],
   "source": [
    "df_final = [] # Store the RE coefficients for all groups\n",
    "#df_final_fe = {'year':[],'intercept':[],'ln_assets':[],'ln_comp':[],'ln_patent':[],'ln_emp':[] } # Store the FE coefficients of all years\n",
    "\n",
    "for y in year1:\n",
    "    df_year = df[df['Year']==y]\n",
    "    md = smf.mixedlm(\"ln_revenue ~ ln_assets + ln_comp + ln_patent + ln_emp\", df_year, groups=df_year[\"GVKEY\"], re_formula = \"ln_assets + ln_comp + ln_patent + ln_emp\")\n",
    "    mdf = md.fit()\n",
    "    \n",
    "    \n",
    "    dictionary = mdf.random_effects\n",
    "    df_coeff = pd.DataFrame.from_dict(dictionary, orient='index')\n",
    "    df_coeff['year'] = y\n",
    "    df_final.append(df_coeff)\n",
    "    \n",
    "    '''\n",
    "    dictionary1 = mdf.fe_params\n",
    "    df_final_fe['year'].append(y)\n",
    "    df_final_fe['intercept'].append(dictionary1[0])\n",
    "    df_final_fe['ln_assets'].append(dictionary1[1])\n",
    "    df_final_fe['ln_comp'].append(dictionary1[2])\n",
    "    df_final_fe['ln_patent'].append(dictionary1[3])\n",
    "    df_final_fe['ln_emp'].append(dictionary1[4])\n",
    "    \n",
    "    '''\n",
    "    \n",
    "    \n",
    "    "
   ]
  },
  {
   "cell_type": "code",
   "execution_count": 106,
   "metadata": {},
   "outputs": [],
   "source": [
    "#fe_estimates = pd.DataFrame.from_dict(df_final_fe)\n",
    "\n",
    "re_estimates = pd.DataFrame()\n",
    "\n",
    "for d in df_final:\n",
    "    df_re = pd.DataFrame(d,columns=['Group','ln_assets','ln_comp','ln_patent','ln_emp','year'])\n",
    "    re_estimates = re_estimates.append(df_re)\n",
    "\n",
    "#all_years = pd.merge(re_estimates, fe_estimates, left_on = 'year', right_on='year', how='left')"
   ]
  },
  {
   "cell_type": "code",
   "execution_count": 107,
   "metadata": {},
   "outputs": [],
   "source": [
    "re_estimates.to_excel('re_estimates_patents2017.xlsx')"
   ]
  },
  {
   "cell_type": "code",
   "execution_count": null,
   "metadata": {},
   "outputs": [],
   "source": [
    "#fe_estimates.to_excel('fe_estimates._patents.xlsx')"
   ]
  },
  {
   "cell_type": "code",
   "execution_count": null,
   "metadata": {},
   "outputs": [],
   "source": [
    "all_years.to_excel('all_years_patents.xlsx')"
   ]
  },
  {
   "cell_type": "code",
   "execution_count": null,
   "metadata": {},
   "outputs": [],
   "source": []
  }
 ],
 "metadata": {
  "kernelspec": {
   "display_name": "Python 3",
   "language": "python",
   "name": "python3"
  },
  "language_info": {
   "codemirror_mode": {
    "name": "ipython",
    "version": 3
   },
   "file_extension": ".py",
   "mimetype": "text/x-python",
   "name": "python",
   "nbconvert_exporter": "python",
   "pygments_lexer": "ipython3",
   "version": "3.7.3"
  }
 },
 "nbformat": 4,
 "nbformat_minor": 2
}
